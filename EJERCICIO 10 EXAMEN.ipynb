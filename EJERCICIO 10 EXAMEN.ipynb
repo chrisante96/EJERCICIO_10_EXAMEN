EJERCICIO 10 EXAMEN


import numpy as np
import matplotlib.pyplot as plt


x=[50,38,28,8,8,16,5,2]
y=[134844,55526,5523,4067,611,4459,2195,1225]
n=len(x)
nu=len(y)
x=np.array(x)
y=np.array(y)
sumx=sum(x)
sumy=sum(y)
promx=sumx/n
promy=sumy/nu
sumx2=sum(x*x)
sumxy=sum(x*y)
b=(sumx*sumy-n*sumxy)/(sumx**2-n*sumx2)
a=promy-b*promx
print("LA PENDIENTE ES:" ,b)
print("EL INTERCEPTO ES:",a)

plt.plot(x,y,'o', label= 'datos')
plt.plot(x, a+b*x, label= "ajuste")
plt.xlabel('VISITA EN "MILES"')
plt.ylabel('VALORES DE LA EMPRESA')
plt.grid()
plt.legend()
plt.show()




print("PRECIO DEL DIA 1: ", a+b*10000)



KMEANS

import numpy as np
import matplotlib.pyplot as plt


v1=[50,38,28,8,8,16,5,2]
v2=[134844,55526,5523,4067,611,4459,2195,1225]
x=np.array(v1)
y=np.array(v2)
X=np.array(list(zip(x,y))).reshape(len(x),2)
plt.plot(v1,v2, 'o')
plt.show()
K=3
modelo_k_means = KMeans(n_clusters=K)
modelo_k_means.fit(X)
centroides = modelo_k_means.cluster_centers_
etiquetas = modelo_k_means.labels_
predecir = modelo_k_means.predict(X)
print(PREDECIR)
print(modelo_k_means.cluster_centers_)

centroides = modelo_k_means.cluster_centers_
etiquetas = modelo_k_means.labels_

plt.plot(X[etiquetas==0,0],X[etiquetas==0,1],'r.', label='cluster 1')
plt.plot(X[etiquetas==1,0],X[etiquetas==1,1],'b.', label='cluster 2')
plt.plot(X[etiquetas==2,0],X[etiquetas==2,1],'g.', label='cluster 3')

plt.plot(centroides[:,0],centroides[:,1],'mo',markersize=6, label='centroides')

plt.legend(loc='best')
plt.show()

prueba = [[3,5]]
prediccion = modelo_k_means.predict(prueba)
print("LA PREDICCION: ({0},{1} )".format(prueba,prediccion))


